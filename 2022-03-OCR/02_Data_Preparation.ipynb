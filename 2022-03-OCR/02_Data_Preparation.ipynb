{
 "cells": [
  {
   "cell_type": "code",
   "execution_count": 2,
   "id": "ac728238",
   "metadata": {},
   "outputs": [],
   "source": [
    "import numpy as np\n",
    "import pandas as pd\n",
    "import cv2\n",
    "import pytesseract\n",
    "\n",
    "import os\n",
    "from glob import glob\n",
    "from tqdm import tqdm\n",
    "\n",
    "import warnings\n",
    "warnings.filterwarnings('ignore')"
   ]
  },
  {
   "cell_type": "code",
   "execution_count": 3,
   "id": "72599922",
   "metadata": {},
   "outputs": [],
   "source": [
    "# Optenemos el path de todas las imagenes\n",
    "imgPaths = glob('./Selected/*.jpeg')"
   ]
  },
  {
   "cell_type": "code",
   "execution_count": 7,
   "id": "916771c6",
   "metadata": {},
   "outputs": [
    {
     "name": "stderr",
     "output_type": "stream",
     "text": [
      "BusinessCard: 100%|███████████████████████████████████████████████████████| 293/293 [02:37<00:00,  1.85it/s]\n"
     ]
    }
   ],
   "source": [
    "allBusinessCard = pd.DataFrame(columns=['id','text'])\n",
    "\n",
    "# recorremos todas los path de las imagenes\n",
    "# tqdm me muestra el porcentaje de como se va procesando\n",
    "for imgPath in  tqdm(imgPaths,desc='BusinessCard'):\n",
    "    \n",
    "    #imgPath = imgPaths[0]\n",
    "    _, filename = os.path.split(imgPath)\n",
    "    \n",
    "    # extract data and text, lo mismo que antes\n",
    "    image = cv2.imread(imgPath)\n",
    "    data = pytesseract.image_to_data(image)\n",
    "    dataList = list(map(lambda x: x.split('\\t'),data.split('\\n')))\n",
    "    df = pd.DataFrame(dataList[1:],columns=dataList[0])\n",
    "    df.dropna(inplace=True)\n",
    "    \n",
    "    # conf el porcentaje que indica si la data esta ok o no\n",
    "    df['conf'] = df['conf'].astype(int)\n",
    "    useFulData = df.query('conf >= 30')\n",
    "\n",
    "    # Dataframe\n",
    "    businessCard = pd.DataFrame()\n",
    "    businessCard['text'] = useFulData['text']\n",
    "    businessCard['id'] = filename\n",
    "    \n",
    "    # concatenation\n",
    "    allBusinessCard = pd.concat((allBusinessCard,businessCard))"
   ]
  },
  {
   "cell_type": "code",
   "execution_count": 15,
   "id": "f8f71d81",
   "metadata": {},
   "outputs": [],
   "source": [
    "allBusinessCard.to_csv('businessCard.csv',index=False)"
   ]
  },
  {
   "cell_type": "code",
   "execution_count": null,
   "id": "05c650b6",
   "metadata": {},
   "outputs": [],
   "source": []
  },
  {
   "cell_type": "code",
   "execution_count": null,
   "id": "a6cf2563",
   "metadata": {},
   "outputs": [],
   "source": []
  },
  {
   "cell_type": "code",
   "execution_count": null,
   "id": "d3c64abb",
   "metadata": {},
   "outputs": [],
   "source": []
  },
  {
   "cell_type": "code",
   "execution_count": null,
   "id": "0314560d",
   "metadata": {},
   "outputs": [],
   "source": []
  }
 ],
 "metadata": {
  "kernelspec": {
   "display_name": "Python 3 (ipykernel)",
   "language": "python",
   "name": "python3"
  },
  "language_info": {
   "codemirror_mode": {
    "name": "ipython",
    "version": 3
   },
   "file_extension": ".py",
   "mimetype": "text/x-python",
   "name": "python",
   "nbconvert_exporter": "python",
   "pygments_lexer": "ipython3",
   "version": "3.9.7"
  }
 },
 "nbformat": 4,
 "nbformat_minor": 5
}
